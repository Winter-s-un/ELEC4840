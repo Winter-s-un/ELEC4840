{
 "cells": [
  {
   "cell_type": "markdown",
   "metadata": {
    "id": "Hci3KvN7ivcH"
   },
   "source": [
    "# 1. Download and unzip data"
   ]
  },
  {
   "cell_type": "code",
   "execution_count": null,
   "metadata": {
    "id": "ZXeyyLwuD6mr",
    "scrolled": true
   },
   "outputs": [],
   "source": [
    "!wget https://isic-challenge-data.s3.amazonaws.com/2016/ISBI2016_ISIC_Part3_Training_Data.zip\n",
    "!wget https://isic-challenge-data.s3.amazonaws.com/2016/ISBI2016_ISIC_Part3_Test_Data.zip\n",
    "!wget https://isic-challenge-data.s3.amazonaws.com/2016/ISBI2016_ISIC_Part3_Training_GroundTruth.csv\n",
    "!wget https://isic-challenge-data.s3.amazonaws.com/2016/ISBI2016_ISIC_Part3_Test_GroundTruth.csv\n",
    "!unzip \"./ISBI2016_ISIC_Part3_Test_Data.zip\"\n",
    "!unzip \"./ISBI2016_ISIC_Part3_Training_Data.zip\""
   ]
  },
  {
   "cell_type": "markdown",
   "metadata": {
    "id": "RovDpxZFi-KA"
   },
   "source": [
    "# 2. Make training, validation and test image folders by training and test csv files\n",
    "[ImageFolder](https://pytorch.org/vision/main/generated/torchvision.datasets.ImageFolder.html)"
   ]
  },
  {
   "cell_type": "code",
   "execution_count": 14,
   "metadata": {
    "id": "2WLrB9eWG3Nn"
   },
   "outputs": [
    {
     "name": "stdout",
     "output_type": "stream",
     "text": [
      "Index(['ISIC_0000000', 'benign'], dtype='object')\n",
      "Index(['ISIC_0000003', '0.0'], dtype='object')\n",
      "Train data size: 720\n",
      "Val data size: 179\n",
      "Test data size: 378\n",
      "Train classes: {'benign': 581, 'malignant': 139}\n",
      "Val classes: {'benign': 145, 'malignant': 34}\n",
      "Test classes: {'benign': 303, 'malignant': 75}\n"
     ]
    }
   ],
   "source": [
    "# '''\n",
    "# You are recommended to use torchvision.datasets.ImageFolder to load data into the Pytorch dataset.\n",
    "# To employ ImageFolder, the images should be arranged into:\n",
    "\n",
    "#   root: train/val/test\n",
    "#     class_a\n",
    "#       a1.png\n",
    "#       a2.png\n",
    "#       ...\n",
    "#     class_b\n",
    "#       b1.png\n",
    "#       b2.png\n",
    "#       ...\n",
    "\n",
    "# Write your codes here to organize the original data and split the data into training/validation/test set.\n",
    "# '''\n",
    "import os\n",
    "import pandas as pd\n",
    "import shutil\n",
    "\n",
    "directories = [\n",
    "   './train/benign', './train/malignant', './val/benign', \n",
    "    './val/malignant', './test/benign', './test/malignant'\n",
    "]\n",
    "for directory in directories:\n",
    "    os.makedirs(directory, exist_ok=True)\n",
    "\n",
    "train_csv = pd.read_csv('./ISBI2016_ISIC_Part3_Training_GroundTruth.csv')\n",
    "test_csv = pd.read_csv('./ISBI2016_ISIC_Part3_Test_GroundTruth.csv')\n",
    "\n",
    "print(train_csv.columns)\n",
    "print(test_csv.columns)\n",
    "\n",
    "test_size = len(test_csv)\n",
    "\n",
    "def stratified_split(df, test_ratio=0.2):\n",
    "    labels = df.iloc[:, -1]\n",
    "    unique_labels = labels.unique()\n",
    "    \n",
    "    train_dfs = []\n",
    "    val_dfs = []\n",
    "    \n",
    "    for label in unique_labels:\n",
    "        subset = df[labels == label]\n",
    "        n_val = max(1, int(len(subset) * test_ratio))\n",
    "        val_subset = subset.sample(n=n_val, random_state=42)\n",
    "        train_subset = subset.drop(val_subset.index)\n",
    "        \n",
    "        train_dfs.append(train_subset)\n",
    "        val_dfs.append(val_subset)\n",
    "    \n",
    "    return pd.concat(train_dfs), pd.concat(val_dfs)\n",
    "\n",
    "train_data, valid_data = stratified_split(train_csv)\n",
    "\n",
    "\n",
    "print(f\"Train data size: {len(train_data)}\\nVal data size: {len(valid_data)}\\nTest data size: {test_size}\")\n",
    "\n",
    "def copy_files(dataframe, src_folder, dest_folder, class_mapping):\n",
    "    counters = {label: 0 for label in class_mapping.values()}\n",
    "    for idx, row in dataframe.iterrows():\n",
    "        name, label = row.iloc[0], row.iloc[1]\n",
    "        target_label = class_mapping.get(label, label)\n",
    "        counters[target_label] += 1\n",
    "        shutil.copy(f\"{src_folder}/{name}.jpg\", f\"{dest_folder}/{target_label}/{name}.jpg\")\n",
    "    return counters\n",
    "\n",
    "label_mapping_train = {'benign': 'benign', 'malignant': 'malignant'}\n",
    "label_mapping_test = {0.0: 'benign', 1.0: 'malignant'}\n",
    "\n",
    "# Copy training files\n",
    "train_counts = copy_files(train_data, './ISBI2016_ISIC_Part3_Training_Data', './train', label_mapping_train)\n",
    "# Copy validation files\n",
    "val_counts = copy_files(valid_data, './ISBI2016_ISIC_Part3_Training_Data', './val', label_mapping_train)\n",
    "# Copy test files\n",
    "test_counts = copy_files(test_csv.iloc[: test_size], './ISBI2016_ISIC_Part3_Test_Data', './test', label_mapping_test)\n",
    "print(f\"Train classes: {train_counts}\")\n",
    "print(f\"Val classes: {val_counts}\")\n",
    "print(f\"Test classes: {test_counts}\")\n",
    "\n",
    "\n",
    "\n"
   ]
  },
  {
   "cell_type": "markdown",
   "metadata": {
    "id": "B77B7mO0jw6K"
   },
   "source": [
    "# 3. Prepare data and build dataloaders"
   ]
  },
  {
   "cell_type": "code",
   "execution_count": 15,
   "metadata": {
    "id": "vizcUhavjvm3"
   },
   "outputs": [],
   "source": [
    "from torchvision.datasets import ImageFolder\n",
    "from torchvision import transforms\n",
    "import torch\n",
    "\n",
    "root_train, root_val, root_test = './train', './val', './test' # -- write your codes here: the root path of training/validation/test set\n",
    "\n",
    "train_transform = transforms.Compose([\n",
    "    # -- write your codes here: data preprocessing and augmentation\n",
    "    transforms.RandomHorizontalFlip(),\n",
    "    transforms.RandomVerticalFlip(),\n",
    "    transforms.RandomRotation(90),\n",
    "    transforms.ColorJitter(brightness=0.35, contrast=0.2),\n",
    "    transforms.Resize(size = [224, 224]),\n",
    "    transforms.ToTensor(),\n",
    "    transforms.Normalize(mean=[0.485, 0.456, 0.406], std=[0.229, 0.224, 0.225])\n",
    "])\n",
    "\n",
    "test_transform = transforms.Compose([\n",
    "    # -- write your codes here: data preprocessing\n",
    "    transforms.Resize([224, 224]), \n",
    "    # transforms.RandomHorizontalFlip(),\n",
    "    transforms.ToTensor(),\n",
    "    transforms.Normalize(mean=[0.485, 0.456, 0.406], std=[0.229, 0.224, 0.225])\n",
    "])\n",
    "\n",
    "def get_train_test_set(batch_size):\n",
    "    train_dataset = ImageFolder(root_train, transform=train_transform)\n",
    "    loader_train = torch.utils.data.DataLoader(\n",
    "        dataset=train_dataset,\n",
    "        batch_size=batch_size,\n",
    "        shuffle=True\n",
    "        )\n",
    "\n",
    "    val_dataset = ImageFolder(root_val, transform=test_transform)\n",
    "    loader_val = torch.utils.data.DataLoader(\n",
    "        dataset=val_dataset,\n",
    "        batch_size=batch_size,\n",
    "        shuffle=False\n",
    "        )\n",
    "\n",
    "    test_dataset = ImageFolder(root_test, transform=test_transform)\n",
    "    loader_test = torch.utils.data.DataLoader(\n",
    "        dataset=test_dataset,\n",
    "        batch_size=batch_size,\n",
    "        shuffle=False\n",
    "        )\n",
    "\n",
    "    return loader_train, loader_val, loader_test\n",
    "\n",
    "batch_size = 16\n",
    "loader_train, loader_val, loader_test = get_train_test_set(batch_size)"
   ]
  },
  {
   "cell_type": "code",
   "execution_count": 16,
   "metadata": {},
   "outputs": [
    {
     "data": {
      "text/plain": [
       "Dataset ImageFolder\n",
       "    Number of datapoints: 720\n",
       "    Root location: ./train\n",
       "    StandardTransform\n",
       "Transform: Compose(\n",
       "               RandomHorizontalFlip(p=0.5)\n",
       "               RandomVerticalFlip(p=0.5)\n",
       "               RandomRotation(degrees=[-90.0, 90.0], interpolation=nearest, expand=False, fill=0)\n",
       "               ColorJitter(brightness=(0.65, 1.35), contrast=(0.8, 1.2), saturation=None, hue=None)\n",
       "               Resize(size=[224, 224], interpolation=bilinear, max_size=None, antialias=True)\n",
       "               ToTensor()\n",
       "               Normalize(mean=[0.485, 0.456, 0.406], std=[0.229, 0.224, 0.225])\n",
       "           )"
      ]
     },
     "execution_count": 16,
     "metadata": {},
     "output_type": "execute_result"
    }
   ],
   "source": [
    "ImageFolder(root_train, transform = train_transform)"
   ]
  },
  {
   "cell_type": "markdown",
   "metadata": {
    "id": "zrEdDAUPmJtt"
   },
   "source": [
    "# 4. Build the network"
   ]
  },
  {
   "cell_type": "markdown",
   "metadata": {
    "id": "_imLoR2bVbtz"
   },
   "source": [
    "## Implement ResNet50"
   ]
  },
  {
   "cell_type": "code",
   "execution_count": 17,
   "metadata": {
    "id": "ggxJrmzPmP8L"
   },
   "outputs": [],
   "source": [
    "import math\n",
    "import torch\n",
    "import torch.nn as nn\n",
    "import torch.nn.functional as F\n",
    "from torchvision.models import resnet50\n",
    "\n",
    "class Bottleneck(nn.Module):\n",
    "    '''\n",
    "    The single block in ResNet\n",
    "    '''\n",
    "    expansion = 4\n",
    "    def __init__(self, inplanes, planes, stride=1, downsample=None):\n",
    "        super(Bottleneck, self).__init__()\n",
    "        # -- write your codes here\n",
    "        self.conv1 = nn.Conv2d(inplanes, planes, kernel_size=1,\n",
    "                               bias=False)\n",
    "        self.bn1 = nn.BatchNorm2d(planes)\n",
    "        self.conv2 = nn.Conv2d(planes, planes, kernel_size=3, stride=stride, \n",
    "                               padding=1, bias=False)\n",
    "        self.bn2 = nn.BatchNorm2d(planes)\n",
    "        self.conv3 = nn.Conv2d(planes, planes * self.expansion, kernel_size=1, \n",
    "                               bias=False)\n",
    "        self.bn3 = nn.BatchNorm2d(planes * self.expansion)\n",
    "        self.relu = nn.ReLU(inplace=True)\n",
    "        self.dropout = nn.Dropout(p=0.1)\n",
    "        self.downsample = downsample\n",
    "        self.stride = stride\n",
    "        \n",
    "    def forward(self, x):\n",
    "        # -- write your codes here\n",
    "        identity = x\n",
    "\n",
    "        out = self.conv1(x)\n",
    "        out = self.bn1(out)\n",
    "        out = self.relu(out)\n",
    "\n",
    "        out = self.conv2(out)\n",
    "        out = self.bn2(out)\n",
    "        out = self.relu(out)\n",
    "\n",
    "        out = self.conv3(out)\n",
    "        out = self.bn3(out)\n",
    "\n",
    "        if self.downsample is not None:\n",
    "            identity = self.downsample(x)\n",
    "\n",
    "        out += identity\n",
    "        out = self.relu(out)\n",
    "\n",
    "        return out\n",
    "        pass\n",
    "\n",
    "class ResNet(nn.Module):\n",
    "    def __init__(self, block, layers, use_fc=False, dropout=None):\n",
    "        self.inplanes = 64\n",
    "        super(ResNet, self).__init__()\n",
    "\n",
    "        self.conv1 = nn.Conv2d(3, 64, kernel_size=7, stride=2, padding=3,bias=False)\n",
    "        self.bn1 = nn.BatchNorm2d(64)\n",
    "        self.relu = nn.ReLU(inplace=True)\n",
    "        self.maxpool = nn.MaxPool2d(kernel_size=3, stride=2, padding=1)\n",
    "\n",
    "        ### stacking layers\n",
    "        self.layer1 = self._make_layer(block, 64, layers[0])\n",
    "        self.layer2 = self._make_layer(block, 128, layers[1], stride=2)\n",
    "        self.layer3 = self._make_layer(block, 256, layers[2], stride=2)\n",
    "        self.layer4 = self._make_layer(block, 512, layers[3], stride=2)\n",
    "\n",
    "        self.avgpool = nn.AvgPool2d(7, stride=1)\n",
    "\n",
    "        self.use_fc = use_fc\n",
    "        self.use_dropout = True if dropout else False\n",
    "        if self.use_fc:\n",
    "            print('Using fc.')\n",
    "            self.fc_add = nn.Linear(512*block.expansion, 512)\n",
    "        if self.use_dropout:\n",
    "            print('Using dropout.')\n",
    "            self.dropout = nn.Dropout(p=dropout)\n",
    "\n",
    "        for m in self.modules():\n",
    "            if isinstance(m, nn.Conv2d):\n",
    "                n = m.kernel_size[0] * m.kernel_size[1] * m.out_channels\n",
    "                m.weight.data.normal_(0, math.sqrt(2. / n))\n",
    "            elif isinstance(m, nn.BatchNorm2d):\n",
    "                m.weight.data.fill_(1)\n",
    "                m.bias.data.zero_()\n",
    "\n",
    "    def _make_layer(self, block, planes, blocks, stride=1):\n",
    "        '''\n",
    "        Buiding ResNet layer by stacking blocks\n",
    "        '''\n",
    "        downsample = None\n",
    "        if stride != 1 or self.inplanes != planes * block.expansion:\n",
    "            downsample = nn.Sequential(\n",
    "                nn.Conv2d(self.inplanes, planes * block.expansion,\n",
    "                          kernel_size=1, stride=stride, bias=False),\n",
    "                nn.BatchNorm2d(planes * block.expansion),\n",
    "            )\n",
    "        layers = []\n",
    "        layers.append(block(self.inplanes, planes, stride, downsample))\n",
    "        self.inplanes = planes * block.expansion\n",
    "        for i in range(1, blocks):\n",
    "            layers.append(block(self.inplanes, planes))\n",
    "        return nn.Sequential(*layers)\n",
    "\n",
    "    def forward(self, x, *args):\n",
    "        # -- write your codes here\n",
    "        x = self.conv1(x)\n",
    "        x = self.bn1(x)\n",
    "        x = self.relu(x)\n",
    "        x = self.maxpool(x)\n",
    "\n",
    "        x = self.layer1(x)\n",
    "        x = self.layer2(x)\n",
    "        x = self.layer3(x)\n",
    "        x = self.layer4(x)\n",
    "\n",
    "        x = self.avgpool(x)\n",
    "        \n",
    "        # x = x.view(x.size(0), -1)\n",
    "        x = torch.flatten(x, 1)\n",
    "        \n",
    "        if self.use_fc:\n",
    "            # x = F.relu(self.fc_add(x))\n",
    "            # print(\"FC Used\")\n",
    "            x = self.fc_add(x)\n",
    "\n",
    "        if self.use_dropout:\n",
    "            # print(\"Dropout Used\")\n",
    "            x = self.dropout(x)\n",
    "\n",
    "        return x\n",
    "        pass\n",
    "\n",
    "def get_resnet50(pre_trained=True):\n",
    "    Resnet50 = ResNet(Bottleneck, [3, 4, 6, 3], dropout= 0.75)\n",
    "    if pre_trained:\n",
    "        pre_trained = resnet50(weights = \"IMAGENET1K_V2\").state_dict()\n",
    "        new_weights = {k: pre_trained[k] for k in Resnet50.state_dict()}\n",
    "        Resnet50.load_state_dict(new_weights)\n",
    "    return Resnet50"
   ]
  },
  {
   "cell_type": "markdown",
   "metadata": {
    "id": "9wENbOekVlwR"
   },
   "source": [
    "## Create Classification Model"
   ]
  },
  {
   "cell_type": "code",
   "execution_count": 18,
   "metadata": {
    "id": "z2ep693sViiP"
   },
   "outputs": [
    {
     "name": "stdout",
     "output_type": "stream",
     "text": [
      "Using dropout.\n"
     ]
    }
   ],
   "source": [
    "class ClassificationModel(nn.Module):\n",
    "    def __init__(self, encoder, num_classes=1):\n",
    "        super(ClassificationModel, self).__init__()\n",
    "        ### apply a vision encoder (ResNet-50 will be applied here)\n",
    "        self.encoder = encoder\n",
    "        # -- write your codes here: add a classifier to project the visual features\n",
    "        self.classifier = nn.Linear(2048, num_classes)\n",
    "    def forward(self, x):\n",
    "        # -- write your codes here:\n",
    "        x = self.encoder(x)\n",
    "        # x = torch.sigmoid(self.classifier(x)) \n",
    "        x = self.classifier(x)\n",
    "        return x\n",
    "        pass\n",
    "\n",
    "resnet50 = get_resnet50(pre_trained=True)\n",
    "model = ClassificationModel(resnet50, 1)"
   ]
  },
  {
   "cell_type": "markdown",
   "metadata": {
    "id": "5Q4AZq_enGEI"
   },
   "source": [
    "### 5. Train and test your model"
   ]
  },
  {
   "cell_type": "code",
   "execution_count": 24,
   "metadata": {
    "id": "vfSsJ4AbnEID"
   },
   "outputs": [
    {
     "name": "stdout",
     "output_type": "stream",
     "text": [
      " -- Epoch 1/20\n"
     ]
    },
    {
     "name": "stderr",
     "output_type": "stream",
     "text": [
      "100%|██████████████████████████████████████████████████████████████████████████████████| 45/45 [01:07<00:00,  1.51s/it]\n"
     ]
    },
    {
     "name": "stdout",
     "output_type": "stream",
     "text": [
      "Train Loss: 0.0702 | Acc: 0.8069 | AUC: 0.5197\n",
      "Current learning rate: 0.001000\n",
      "Val Loss: 0.0818 | Acc: 0.8101 | AUC: 0.5836\n",
      " -- Epoch 2/20\n"
     ]
    },
    {
     "name": "stderr",
     "output_type": "stream",
     "text": [
      "100%|██████████████████████████████████████████████████████████████████████████████████| 45/45 [01:08<00:00,  1.51s/it]\n"
     ]
    },
    {
     "name": "stdout",
     "output_type": "stream",
     "text": [
      "Train Loss: 0.0697 | Acc: 0.8069 | AUC: 0.5474\n",
      "Current learning rate: 0.001000\n",
      "Val Loss: 0.0820 | Acc: 0.8101 | AUC: 0.5708\n",
      " -- Epoch 3/20\n"
     ]
    },
    {
     "name": "stderr",
     "output_type": "stream",
     "text": [
      "100%|██████████████████████████████████████████████████████████████████████████████████| 45/45 [01:10<00:00,  1.57s/it]\n"
     ]
    },
    {
     "name": "stdout",
     "output_type": "stream",
     "text": [
      "Train Loss: 0.0688 | Acc: 0.8069 | AUC: 0.5857\n",
      "Current learning rate: 0.000800\n",
      "Val Loss: 0.0818 | Acc: 0.8101 | AUC: 0.5838\n",
      " -- Epoch 4/20\n"
     ]
    },
    {
     "name": "stderr",
     "output_type": "stream",
     "text": [
      "100%|██████████████████████████████████████████████████████████████████████████████████| 45/45 [01:08<00:00,  1.52s/it]\n"
     ]
    },
    {
     "name": "stdout",
     "output_type": "stream",
     "text": [
      "Train Loss: 0.0683 | Acc: 0.8069 | AUC: 0.6036\n",
      "Current learning rate: 0.000800\n",
      "Val Loss: 0.0818 | Acc: 0.8101 | AUC: 0.5966\n",
      " -- Epoch 5/20\n"
     ]
    },
    {
     "name": "stderr",
     "output_type": "stream",
     "text": [
      "100%|██████████████████████████████████████████████████████████████████████████████████| 45/45 [01:07<00:00,  1.50s/it]\n"
     ]
    },
    {
     "name": "stdout",
     "output_type": "stream",
     "text": [
      "Train Loss: 0.0687 | Acc: 0.8069 | AUC: 0.5969\n",
      "Current learning rate: 0.000800\n",
      "Val Loss: 0.0815 | Acc: 0.8101 | AUC: 0.6333\n",
      " -- Epoch 6/20\n"
     ]
    },
    {
     "name": "stderr",
     "output_type": "stream",
     "text": [
      "100%|██████████████████████████████████████████████████████████████████████████████████| 45/45 [01:09<00:00,  1.53s/it]\n"
     ]
    },
    {
     "name": "stdout",
     "output_type": "stream",
     "text": [
      "Train Loss: 0.0690 | Acc: 0.8069 | AUC: 0.5970\n",
      "Current learning rate: 0.000800\n",
      "Val Loss: 0.0808 | Acc: 0.8101 | AUC: 0.6746\n",
      " -- Epoch 7/20\n"
     ]
    },
    {
     "name": "stderr",
     "output_type": "stream",
     "text": [
      "100%|██████████████████████████████████████████████████████████████████████████████████| 45/45 [01:07<00:00,  1.50s/it]\n"
     ]
    },
    {
     "name": "stdout",
     "output_type": "stream",
     "text": [
      "Train Loss: 0.0691 | Acc: 0.8069 | AUC: 0.5707\n",
      "Current learning rate: 0.000800\n",
      "Val Loss: 0.0810 | Acc: 0.8101 | AUC: 0.6501\n",
      " -- Epoch 8/20\n"
     ]
    },
    {
     "name": "stderr",
     "output_type": "stream",
     "text": [
      "100%|██████████████████████████████████████████████████████████████████████████████████| 45/45 [01:06<00:00,  1.48s/it]\n"
     ]
    },
    {
     "name": "stdout",
     "output_type": "stream",
     "text": [
      "Train Loss: 0.0683 | Acc: 0.8069 | AUC: 0.6145\n",
      "Current learning rate: 0.000800\n",
      "Val Loss: 0.0801 | Acc: 0.8101 | AUC: 0.6868\n",
      " -- Epoch 9/20\n"
     ]
    },
    {
     "name": "stderr",
     "output_type": "stream",
     "text": [
      "100%|██████████████████████████████████████████████████████████████████████████████████| 45/45 [01:06<00:00,  1.49s/it]\n"
     ]
    },
    {
     "name": "stdout",
     "output_type": "stream",
     "text": [
      "Train Loss: 0.0691 | Acc: 0.8069 | AUC: 0.5807\n",
      "Current learning rate: 0.000800\n",
      "Val Loss: 0.0800 | Acc: 0.8101 | AUC: 0.6939\n",
      " -- Epoch 10/20\n"
     ]
    },
    {
     "name": "stderr",
     "output_type": "stream",
     "text": [
      "100%|██████████████████████████████████████████████████████████████████████████████████| 45/45 [01:06<00:00,  1.48s/it]\n"
     ]
    },
    {
     "name": "stdout",
     "output_type": "stream",
     "text": [
      "Train Loss: 0.0666 | Acc: 0.8069 | AUC: 0.6892\n",
      "Current learning rate: 0.000800\n",
      "Val Loss: 0.0802 | Acc: 0.8101 | AUC: 0.6919\n",
      " -- Epoch 11/20\n"
     ]
    },
    {
     "name": "stderr",
     "output_type": "stream",
     "text": [
      "100%|██████████████████████████████████████████████████████████████████████████████████| 45/45 [01:06<00:00,  1.48s/it]\n"
     ]
    },
    {
     "name": "stdout",
     "output_type": "stream",
     "text": [
      "Train Loss: 0.0677 | Acc: 0.8069 | AUC: 0.6326\n",
      "Current learning rate: 0.000800\n",
      "Val Loss: 0.0800 | Acc: 0.8101 | AUC: 0.6789\n",
      " -- Epoch 12/20\n"
     ]
    },
    {
     "name": "stderr",
     "output_type": "stream",
     "text": [
      "100%|██████████████████████████████████████████████████████████████████████████████████| 45/45 [01:06<00:00,  1.47s/it]\n"
     ]
    },
    {
     "name": "stdout",
     "output_type": "stream",
     "text": [
      "Train Loss: 0.0677 | Acc: 0.8069 | AUC: 0.6530\n",
      "Current learning rate: 0.000800\n",
      "Val Loss: 0.0801 | Acc: 0.8101 | AUC: 0.6822\n",
      " -- Epoch 13/20\n"
     ]
    },
    {
     "name": "stderr",
     "output_type": "stream",
     "text": [
      "100%|██████████████████████████████████████████████████████████████████████████████████| 45/45 [01:07<00:00,  1.50s/it]\n"
     ]
    },
    {
     "name": "stdout",
     "output_type": "stream",
     "text": [
      "Train Loss: 0.0685 | Acc: 0.8069 | AUC: 0.6061\n",
      "Current learning rate: 0.000800\n",
      "Val Loss: 0.0796 | Acc: 0.8101 | AUC: 0.7166\n",
      " -- Epoch 14/20\n"
     ]
    },
    {
     "name": "stderr",
     "output_type": "stream",
     "text": [
      "100%|██████████████████████████████████████████████████████████████████████████████████| 45/45 [01:07<00:00,  1.49s/it]\n"
     ]
    },
    {
     "name": "stdout",
     "output_type": "stream",
     "text": [
      "Train Loss: 0.0681 | Acc: 0.8069 | AUC: 0.6228\n",
      "Current learning rate: 0.000800\n",
      "Val Loss: 0.0794 | Acc: 0.8101 | AUC: 0.7247\n",
      " -- Epoch 15/20\n"
     ]
    },
    {
     "name": "stderr",
     "output_type": "stream",
     "text": [
      "100%|██████████████████████████████████████████████████████████████████████████████████| 45/45 [01:06<00:00,  1.49s/it]\n"
     ]
    },
    {
     "name": "stdout",
     "output_type": "stream",
     "text": [
      "Train Loss: 0.0676 | Acc: 0.8069 | AUC: 0.6418\n",
      "Current learning rate: 0.000800\n",
      "Val Loss: 0.0797 | Acc: 0.8101 | AUC: 0.7233\n",
      " -- Epoch 16/20\n"
     ]
    },
    {
     "name": "stderr",
     "output_type": "stream",
     "text": [
      "100%|██████████████████████████████████████████████████████████████████████████████████| 45/45 [01:07<00:00,  1.51s/it]\n"
     ]
    },
    {
     "name": "stdout",
     "output_type": "stream",
     "text": [
      "Train Loss: 0.0664 | Acc: 0.8069 | AUC: 0.6789\n",
      "Current learning rate: 0.000800\n",
      "Val Loss: 0.0793 | Acc: 0.8101 | AUC: 0.7245\n",
      " -- Epoch 17/20\n"
     ]
    },
    {
     "name": "stderr",
     "output_type": "stream",
     "text": [
      "100%|██████████████████████████████████████████████████████████████████████████████████| 45/45 [01:06<00:00,  1.48s/it]\n"
     ]
    },
    {
     "name": "stdout",
     "output_type": "stream",
     "text": [
      "Train Loss: 0.0669 | Acc: 0.8069 | AUC: 0.6575\n",
      "Current learning rate: 0.000800\n",
      "Val Loss: 0.0789 | Acc: 0.8101 | AUC: 0.7316\n",
      " -- Epoch 18/20\n"
     ]
    },
    {
     "name": "stderr",
     "output_type": "stream",
     "text": [
      "100%|██████████████████████████████████████████████████████████████████████████████████| 45/45 [01:06<00:00,  1.47s/it]\n"
     ]
    },
    {
     "name": "stdout",
     "output_type": "stream",
     "text": [
      "Train Loss: 0.0671 | Acc: 0.8069 | AUC: 0.6640\n",
      "Current learning rate: 0.000800\n",
      "Val Loss: 0.0790 | Acc: 0.8101 | AUC: 0.7280\n",
      " -- Epoch 19/20\n"
     ]
    },
    {
     "name": "stderr",
     "output_type": "stream",
     "text": [
      "100%|██████████████████████████████████████████████████████████████████████████████████| 45/45 [01:05<00:00,  1.46s/it]\n"
     ]
    },
    {
     "name": "stdout",
     "output_type": "stream",
     "text": [
      "Train Loss: 0.0657 | Acc: 0.8069 | AUC: 0.7087\n",
      "Current learning rate: 0.000800\n",
      "Val Loss: 0.0786 | Acc: 0.8101 | AUC: 0.7347\n",
      " -- Epoch 20/20\n"
     ]
    },
    {
     "name": "stderr",
     "output_type": "stream",
     "text": [
      "100%|██████████████████████████████████████████████████████████████████████████████████| 45/45 [01:06<00:00,  1.48s/it]\n"
     ]
    },
    {
     "name": "stdout",
     "output_type": "stream",
     "text": [
      "Train Loss: 0.0661 | Acc: 0.8069 | AUC: 0.6938\n",
      "Current learning rate: 0.000800\n",
      "Val Loss: 0.0787 | Acc: 0.8101 | AUC: 0.7278\n",
      "\n",
      "Final Test Results - Acc: 0.8016 | AUC: 0.6255\n"
     ]
    }
   ],
   "source": [
    "from tqdm import tqdm\n",
    "import numpy as np\n",
    "import torch.nn as nn\n",
    "from sklearn.metrics import roc_auc_score, accuracy_score\n",
    "\n",
    "max_epoch = 20\n",
    "Threshold = 0.7\n",
    "pos_weight = torch.tensor([581 / 139])\n",
    "use_cuda = torch.cuda.is_available()\n",
    "if use_cuda:\n",
    "    model = model.cuda()\n",
    "\n",
    "criterion = nn.BCEWithLogitsLoss(pos_weight = pos_weight).cuda()# -- write your codes here\n",
    "# criterion = nn.BCEWithLogitsLoss().cuda()\n",
    "optimizer = torch.optim.SGD(model.parameters(), \n",
    "                           lr = 0.001, \n",
    "                           momentum = 0.8,\n",
    "                           nesterov = True,\n",
    "                           weight_decay = 1e-3) # -- write your codes here\n",
    "scheduler = torch.optim.lr_scheduler.ReduceLROnPlateau(optimizer, mode='min', factor=0.8, patience = 1)\n",
    "\n",
    "best_val_auc = 0.0\n",
    "best_val_acc = 0.0\n",
    "train_accs = []\n",
    "metrics = {\n",
    "    'train_loss': [], 'train_acc': [], 'train_auc': [],\n",
    "    'val_loss': [], 'val_acc': [], 'val_auc': []\n",
    "}\n",
    "\n",
    "for epoch in range(max_epoch):\n",
    "    print(\" -- Epoch {}/{}\".format(epoch + 1, max_epoch))\n",
    "\n",
    "    ### training the model\n",
    "    model.train()\n",
    "    train_loss = 0.0\n",
    "    running_correct = 0\n",
    "    all_preds, all_labels = [], []\n",
    "\n",
    "    for data in tqdm(loader_train):\n",
    "        # -- write your codes here\n",
    "        inputs, labels = data\n",
    "        if use_cuda:\n",
    "            inputs, labels = inputs.cuda(), labels.cuda()\n",
    "        \n",
    "        optimizer.zero_grad()\n",
    "        outputs = model(inputs)\n",
    "        loss = criterion(outputs.squeeze(), labels.float())\n",
    "\n",
    "        loss.backward()\n",
    "        torch.nn.utils.clip_grad_norm_(model.parameters(), 1.0)\n",
    "        optimizer.step()\n",
    "\n",
    "        train_loss += loss.item()\n",
    "        pred = torch.argmax(outputs, dim=1)\n",
    "        probs = torch.sigmoid(outputs.squeeze().detach()).cpu().numpy()\n",
    "        running_correct += torch.sum(pred == labels)\n",
    "        all_preds.extend(probs)\n",
    "        all_labels.extend(labels.cpu().numpy())\n",
    "    ### record the training loss and metrics\n",
    "    # -- write your codes here\n",
    "    train_loss = train_loss / len(loader_train.dataset)\n",
    "    train_auc = roc_auc_score(all_labels, all_preds)\n",
    "    train_accs.append(running_correct / len(loader_train.dataset))\n",
    "    train_acc = accuracy_score(all_labels, (np.array(all_preds) > Threshold).astype(int))\n",
    "    print(f\"Train Loss: {train_loss:.4f} | Acc: {train_acc:.4f} | AUC: {train_auc:.4f}\")\n",
    "    \n",
    "    ### evaluate on validation set\n",
    "    model.eval()\n",
    "    val_loss, val_preds, val_labels = 0.0, [], []\n",
    "    \n",
    "    with torch.no_grad():\n",
    "        for data in loader_val:\n",
    "            # -- write your codes here\n",
    "            inputs, labels = data\n",
    "            if use_cuda:\n",
    "                inputs, labels = inputs.cuda(), labels.cuda()\n",
    "                \n",
    "            outputs = model(inputs).squeeze()\n",
    "            loss = criterion(outputs, labels.float())\n",
    "            \n",
    "            val_loss += loss.item() \n",
    "            val_preds.extend(torch.sigmoid(outputs).cpu().numpy())\n",
    "            val_labels.extend(labels.cpu().numpy())\n",
    "\n",
    "    ### record the validation loss and metrics, save the best checkpoint\n",
    "    # -- write your codes here\n",
    "    val_loss = val_loss / len(loader_val.dataset)\n",
    "    val_auc = roc_auc_score(val_labels, val_preds)\n",
    "    val_acc = accuracy_score(val_labels, (np.array(val_preds) > Threshold).astype(int))\n",
    "\n",
    "    if val_acc > best_val_acc:\n",
    "        best_val_acc = val_acc\n",
    "        torch.save(model.state_dict(), \"best_model.pt\")\n",
    "    scheduler.step(val_loss)\n",
    "    current_lr = scheduler.optimizer.param_groups[0]['lr']\n",
    "    print(\"Current learning rate: {:.6f}\".format(current_lr))\n",
    "\n",
    "    print(f\"Val Loss: {val_loss:.4f} | Acc: {val_acc:.4f} | AUC: {val_auc:.4f}\")\n",
    "\n",
    "    metrics['train_loss'].append(train_loss)\n",
    "    metrics['train_acc'].append(train_acc)\n",
    "    metrics['train_auc'].append(train_auc)\n",
    "    metrics['val_loss'].append(val_loss)\n",
    "    metrics['val_acc'].append(val_acc)\n",
    "    metrics['val_auc'].append(val_auc)\n",
    "\n",
    "### evaluate on test set\n",
    "checkpoint = torch.load('best_model.pt')\n",
    "model.load_state_dict(checkpoint)\n",
    "model.eval()\n",
    "test_preds, test_labels = [], []\n",
    "\n",
    "for data in loader_test:\n",
    "    # -- write your codes here\n",
    "    inputs, labels = data\n",
    "    if use_cuda:\n",
    "        inputs, labels = inputs.cuda(), labels.cuda()\n",
    "        \n",
    "    outputs = model(inputs).squeeze()\n",
    "    test_preds.extend(torch.sigmoid(outputs).detach().cpu().numpy())\n",
    "\n",
    "    test_labels.extend(labels.cpu().numpy())\n",
    "\n",
    "### compute and print the metrics on test set\n",
    "# -- write your codes here\n",
    "test_auc = roc_auc_score(test_labels, test_preds)\n",
    "test_acc = accuracy_score(test_labels, (np.array(test_preds) > Threshold).astype(int))\n",
    "print(f\"\\nFinal Test Results - Acc: {test_acc:.4f} | AUC: {test_auc:.4f}\")\n"
   ]
  },
  {
   "cell_type": "code",
   "execution_count": null,
   "metadata": {},
   "outputs": [],
   "source": []
  },
  {
   "cell_type": "code",
   "execution_count": 25,
   "metadata": {
    "id": "oRiwcbu7oWx-"
   },
   "outputs": [
    {
     "name": "stdout",
     "output_type": "stream",
     "text": [
      "Precision: 0.0000\n",
      "Recall: 0.0000\n",
      "Specificity: 1.0000\n",
      "Negative Predictive Value: 0.8016\n"
     ]
    },
    {
     "name": "stderr",
     "output_type": "stream",
     "text": [
      "C:\\Users\\Winter\\anaconda3\\Lib\\site-packages\\sklearn\\metrics\\_classification.py:1531: UndefinedMetricWarning: Precision is ill-defined and being set to 0.0 due to no predicted samples. Use `zero_division` parameter to control this behavior.\n",
      "  _warn_prf(average, modifier, f\"{metric.capitalize()} is\", len(result))\n"
     ]
    },
    {
     "data": {
      "image/png": "[encoded data removed]",
      "text/plain": [
       "<Figure size 640x480 with 1 Axes>"
      ]
     },
     "metadata": {},
     "output_type": "display_data"
    },
    {
     "name": "stdout",
     "output_type": "stream",
     "text": [
      "Best Threshold = 0.47\n"
     ]
    }
   ],
   "source": [
    "### plot your training and test curves\n",
    "import matplotlib.pyplot as plt\n",
    "# print(test_preds)\n",
    "\n",
    "from sklearn.metrics import precision_score, recall_score, confusion_matrix, roc_curve\n",
    "test_precision = precision_score(test_labels, (np.array(test_preds) > Threshold).astype(int))\n",
    "print(f'Precision: {test_precision:.4f}')\n",
    "test_recall = recall_score(test_labels, (np.array(test_preds) > Threshold).astype(int))\n",
    "print(f'Recall: {test_recall:.4f}')\n",
    "test_cm = confusion_matrix(test_labels, (np.array(test_preds) > Threshold).astype(int))\n",
    "tn, fp, fn, tp = test_cm.ravel()\n",
    "test_specificity = tn / (tn + fp)\n",
    "print(f'Specificity: {test_specificity:.4f}')\n",
    "test_npv = tn / (tn + fn)\n",
    "print(f'Negative Predictive Value: {test_npv:.4f}')\n",
    "\n",
    "fpr, tpr, thresholds = roc_curve(test_labels, test_preds)\n",
    "# print(roc_auc = auc(fpr, tpr))\n",
    "\n",
    "J = tpr - fpr\n",
    "ix = np.argmax(J)\n",
    "best_threshold = thresholds[ix]\n",
    "\n",
    "# 绘制 ROC 曲线\n",
    "plt.figure()\n",
    "plt.plot(fpr, tpr, color='darkorange', lw=2, label='ROC curve (area = %0.2f)' % test_auc)\n",
    "plt.plot([0, 1], [0, 1], color='navy', lw=2, linestyle='--')\n",
    "plt.scatter(fpr[ix], tpr[ix], marker='o', color='black', label='Best Threshold = {:.2f}'.format(best_threshold))\n",
    "plt.xlim([0.0, 1.0])\n",
    "plt.ylim([0.0, 1.05])\n",
    "plt.xlabel('False Positive Rate')\n",
    "plt.ylabel('True Positive Rate')\n",
    "plt.title('Receiver Operating Characteristic')\n",
    "plt.legend(loc=\"lower right\")\n",
    "plt.show()\n",
    "\n",
    "print(\"Best Threshold = {:.2f}\".format(best_threshold))\n",
    "      "
   ]
  },
  {
   "cell_type": "code",
   "execution_count": 26,
   "metadata": {
    "id": "oRiwcbu7oWx-"
   },
   "outputs": [
    {
     "name": "stdout",
     "output_type": "stream",
     "text": [
      "[0.07018241708477338, 0.06967643019225862, 0.06884764043821229, 0.06830236150158776, 0.0687271268831359, 0.06898209212554826, 0.06906168791982863, 0.06828726637694571, 0.06905075858036677, 0.06657930223478212, 0.06774161408344904, 0.06774257140027153, 0.068491823060645, 0.06813550649417771, 0.0676288595630063, 0.06642723141445053, 0.0669108472764492, 0.06714618040455712, 0.06571497892340024, 0.06609781649377611]\n",
      "[0.08177511385699224, 0.0820276966974056, 0.08184905058844795, 0.08176224757839182, 0.0814519794293622, 0.08077792248912363, 0.08097002692728736, 0.08007653432185423, 0.08003851421718491, 0.0802476232944254, 0.08002366500193846, 0.08005663669309136, 0.07956626228780053, 0.07942243677943779, 0.07968092614046023, 0.07925448920473706, 0.07889917426269148, 0.07895253457170626, 0.07855968235591271, 0.07873537587053948]\n"
     ]
    },
    {
     "data": {
      "text/plain": [
       "<matplotlib.legend.Legend at 0x1616ab47140>"
      ]
     },
     "execution_count": 26,
     "metadata": {},
     "output_type": "execute_result"
    },
    {
     "data": {
      "image/png": "[encoded data removed]",
      "text/plain": [
       "<Figure size 640x480 with 1 Axes>"
      ]
     },
     "metadata": {},
     "output_type": "display_data"
    }
   ],
   "source": [
    "# print((np.array(test_preds) > 0.3).astype(int))\n",
    "plt.figure()\n",
    "\n",
    "# Loss Curves\n",
    "\n",
    "plt.plot(metrics['train_loss'], color='orange', label='Training Loss')\n",
    "plt.plot(metrics['val_loss'], color = 'red', label='Validation Loss')\n",
    "print(metrics['train_loss'])\n",
    "print(metrics['val_loss'])\n",
    "plt.xlabel('Epochs')\n",
    "plt.ylabel('Loss')\n",
    "plt.title('Loss Curves')\n",
    "plt.legend()"
   ]
  },
  {
   "cell_type": "code",
   "execution_count": 27,
   "metadata": {
    "id": "oRiwcbu7oWx-"
   },
   "outputs": [
    {
     "name": "stdout",
     "output_type": "stream",
     "text": [
      "[0.5196572518233262, 0.5474188635322379, 0.5856994266892853, 0.6035735955125745, 0.596862269220768, 0.5970356245124383, 0.5707227677410567, 0.6144578313253013, 0.5806906970120977, 0.6891987270768584, 0.6325982243465124, 0.6529550885969365, 0.6060500996792928, 0.6228160328879753, 0.6418355848883716, 0.6788840872224767, 0.6574747087011974, 0.6639507670971657, 0.7086640498272639, 0.6938297898686215]\n",
      "[0.5835699797160243, 0.5707910750507099, 0.5837728194726166, 0.596551724137931, 0.6332657200811359, 0.6746450304259635, 0.6501014198782962, 0.686815415821501, 0.6939148073022312, 0.6918864097363083, 0.6789046653144016, 0.6821501014198783, 0.7166328600405679, 0.7247464503042597, 0.7233265720081135, 0.7245436105476674, 0.7316430020283975, 0.7279918864097363, 0.7346855983772819, 0.7277890466531439]\n"
     ]
    },
    {
     "data": {
      "text/plain": [
       "<matplotlib.legend.Legend at 0x1616ab47e60>"
      ]
     },
     "execution_count": 27,
     "metadata": {},
     "output_type": "execute_result"
    },
    {
     "data": {
      "image/png": "[encoded data removed]",
      "text/plain": [
       "<Figure size 640x480 with 1 Axes>"
      ]
     },
     "metadata": {},
     "output_type": "display_data"
    }
   ],
   "source": [
    "# AUC Curve\n",
    "plt.plot(metrics['val_auc'], color='orange', label='Validation AUC')\n",
    "plt.plot(metrics['train_auc'], color='red', label='Training AUC')\n",
    "print(metrics['train_auc'])\n",
    "print(metrics['val_auc'])\n",
    "plt.xlabel('Epochs')\n",
    "plt.ylabel('AUC')\n",
    "plt.title('AUC Curve')\n",
    "plt.legend()"
   ]
  },
  {
   "cell_type": "code",
   "execution_count": 28,
   "metadata": {
    "id": "oRiwcbu7oWx-"
   },
   "outputs": [
    {
     "name": "stdout",
     "output_type": "stream",
     "text": [
      "[0.8069444444444445, 0.8069444444444445, 0.8069444444444445, 0.8069444444444445, 0.8069444444444445, 0.8069444444444445, 0.8069444444444445, 0.8069444444444445, 0.8069444444444445, 0.8069444444444445, 0.8069444444444445, 0.8069444444444445, 0.8069444444444445, 0.8069444444444445, 0.8069444444444445, 0.8069444444444445, 0.8069444444444445, 0.8069444444444445, 0.8069444444444445, 0.8069444444444445]\n",
      "[tensor(0.8069, device='cuda:0'), tensor(0.8069, device='cuda:0'), tensor(0.8069, device='cuda:0'), tensor(0.8069, device='cuda:0'), tensor(0.8069, device='cuda:0'), tensor(0.8069, device='cuda:0'), tensor(0.8069, device='cuda:0'), tensor(0.8069, device='cuda:0'), tensor(0.8069, device='cuda:0'), tensor(0.8069, device='cuda:0'), tensor(0.8069, device='cuda:0'), tensor(0.8069, device='cuda:0'), tensor(0.8069, device='cuda:0'), tensor(0.8069, device='cuda:0'), tensor(0.8069, device='cuda:0'), tensor(0.8069, device='cuda:0'), tensor(0.8069, device='cuda:0'), tensor(0.8069, device='cuda:0'), tensor(0.8069, device='cuda:0'), tensor(0.8069, device='cuda:0')]\n",
      "[0.8100558659217877, 0.8100558659217877, 0.8100558659217877, 0.8100558659217877, 0.8100558659217877, 0.8100558659217877, 0.8100558659217877, 0.8100558659217877, 0.8100558659217877, 0.8100558659217877, 0.8100558659217877, 0.8100558659217877, 0.8100558659217877, 0.8100558659217877, 0.8100558659217877, 0.8100558659217877, 0.8100558659217877, 0.8100558659217877, 0.8100558659217877, 0.8100558659217877]\n"
     ]
    },
    {
     "ename": "TypeError",
     "evalue": "can't convert cuda:0 device type tensor to numpy. Use Tensor.cpu() to copy the tensor to host memory first.",
     "output_type": "error",
     "traceback": [
      "\u001b[1;31m---------------------------------------------------------------------------\u001b[0m",
      "\u001b[1;31mTypeError\u001b[0m                                 Traceback (most recent call last)",
      "Cell \u001b[1;32mIn[28], line 7\u001b[0m\n\u001b[0;32m      5\u001b[0m plt\u001b[38;5;241m.\u001b[39mplot(metrics[\u001b[38;5;124m'\u001b[39m\u001b[38;5;124mval_acc\u001b[39m\u001b[38;5;124m'\u001b[39m], color\u001b[38;5;241m=\u001b[39m\u001b[38;5;124m'\u001b[39m\u001b[38;5;124morange\u001b[39m\u001b[38;5;124m'\u001b[39m, label\u001b[38;5;241m=\u001b[39m\u001b[38;5;124m'\u001b[39m\u001b[38;5;124mValidation ACC\u001b[39m\u001b[38;5;124m'\u001b[39m)\n\u001b[0;32m      6\u001b[0m plt\u001b[38;5;241m.\u001b[39mplot(metrics[\u001b[38;5;124m'\u001b[39m\u001b[38;5;124mtrain_acc\u001b[39m\u001b[38;5;124m'\u001b[39m], color\u001b[38;5;241m=\u001b[39m\u001b[38;5;124m'\u001b[39m\u001b[38;5;124mred\u001b[39m\u001b[38;5;124m'\u001b[39m, label\u001b[38;5;241m=\u001b[39m\u001b[38;5;124m'\u001b[39m\u001b[38;5;124mTraining ACC\u001b[39m\u001b[38;5;124m'\u001b[39m)\n\u001b[1;32m----> 7\u001b[0m \u001b[43mplt\u001b[49m\u001b[38;5;241;43m.\u001b[39;49m\u001b[43mplot\u001b[49m\u001b[43m(\u001b[49m\u001b[43mtrain_accs\u001b[49m\u001b[43m,\u001b[49m\u001b[43m \u001b[49m\u001b[43mcolor\u001b[49m\u001b[38;5;241;43m=\u001b[39;49m\u001b[38;5;124;43m'\u001b[39;49m\u001b[38;5;124;43mblue\u001b[39;49m\u001b[38;5;124;43m'\u001b[39;49m\u001b[43m,\u001b[49m\u001b[43m \u001b[49m\u001b[43mlabel\u001b[49m\u001b[38;5;241;43m=\u001b[39;49m\u001b[38;5;124;43m'\u001b[39;49m\u001b[38;5;124;43mTraining ACCs\u001b[39;49m\u001b[38;5;124;43m'\u001b[39;49m\u001b[43m)\u001b[49m\n\u001b[0;32m     10\u001b[0m plt\u001b[38;5;241m.\u001b[39mxlabel(\u001b[38;5;124m'\u001b[39m\u001b[38;5;124mEpochs\u001b[39m\u001b[38;5;124m'\u001b[39m)\n\u001b[0;32m     11\u001b[0m plt\u001b[38;5;241m.\u001b[39mylabel(\u001b[38;5;124m'\u001b[39m\u001b[38;5;124mACC\u001b[39m\u001b[38;5;124m'\u001b[39m)\n",
      "File \u001b[1;32m~\\anaconda3\\Lib\\site-packages\\matplotlib\\pyplot.py:3794\u001b[0m, in \u001b[0;36mplot\u001b[1;34m(scalex, scaley, data, *args, **kwargs)\u001b[0m\n\u001b[0;32m   3786\u001b[0m \u001b[38;5;129m@_copy_docstring_and_deprecators\u001b[39m(Axes\u001b[38;5;241m.\u001b[39mplot)\n\u001b[0;32m   3787\u001b[0m \u001b[38;5;28;01mdef\u001b[39;00m \u001b[38;5;21mplot\u001b[39m(\n\u001b[0;32m   3788\u001b[0m     \u001b[38;5;241m*\u001b[39margs: \u001b[38;5;28mfloat\u001b[39m \u001b[38;5;241m|\u001b[39m ArrayLike \u001b[38;5;241m|\u001b[39m \u001b[38;5;28mstr\u001b[39m,\n\u001b[1;32m   (...)\u001b[0m\n\u001b[0;32m   3792\u001b[0m     \u001b[38;5;241m*\u001b[39m\u001b[38;5;241m*\u001b[39mkwargs,\n\u001b[0;32m   3793\u001b[0m ) \u001b[38;5;241m-\u001b[39m\u001b[38;5;241m>\u001b[39m \u001b[38;5;28mlist\u001b[39m[Line2D]:\n\u001b[1;32m-> 3794\u001b[0m     \u001b[38;5;28;01mreturn\u001b[39;00m \u001b[43mgca\u001b[49m\u001b[43m(\u001b[49m\u001b[43m)\u001b[49m\u001b[38;5;241;43m.\u001b[39;49m\u001b[43mplot\u001b[49m\u001b[43m(\u001b[49m\n\u001b[0;32m   3795\u001b[0m \u001b[43m        \u001b[49m\u001b[38;5;241;43m*\u001b[39;49m\u001b[43margs\u001b[49m\u001b[43m,\u001b[49m\n\u001b[0;32m   3796\u001b[0m \u001b[43m        \u001b[49m\u001b[43mscalex\u001b[49m\u001b[38;5;241;43m=\u001b[39;49m\u001b[43mscalex\u001b[49m\u001b[43m,\u001b[49m\n\u001b[0;32m   3797\u001b[0m \u001b[43m        \u001b[49m\u001b[43mscaley\u001b[49m\u001b[38;5;241;43m=\u001b[39;49m\u001b[43mscaley\u001b[49m\u001b[43m,\u001b[49m\n\u001b[0;32m   3798\u001b[0m \u001b[43m        \u001b[49m\u001b[38;5;241;43m*\u001b[39;49m\u001b[38;5;241;43m*\u001b[39;49m\u001b[43m(\u001b[49m\u001b[43m{\u001b[49m\u001b[38;5;124;43m\"\u001b[39;49m\u001b[38;5;124;43mdata\u001b[39;49m\u001b[38;5;124;43m\"\u001b[39;49m\u001b[43m:\u001b[49m\u001b[43m \u001b[49m\u001b[43mdata\u001b[49m\u001b[43m}\u001b[49m\u001b[43m \u001b[49m\u001b[38;5;28;43;01mif\u001b[39;49;00m\u001b[43m \u001b[49m\u001b[43mdata\u001b[49m\u001b[43m \u001b[49m\u001b[38;5;129;43;01mis\u001b[39;49;00m\u001b[43m \u001b[49m\u001b[38;5;129;43;01mnot\u001b[39;49;00m\u001b[43m \u001b[49m\u001b[38;5;28;43;01mNone\u001b[39;49;00m\u001b[43m \u001b[49m\u001b[38;5;28;43;01melse\u001b[39;49;00m\u001b[43m \u001b[49m\u001b[43m{\u001b[49m\u001b[43m}\u001b[49m\u001b[43m)\u001b[49m\u001b[43m,\u001b[49m\n\u001b[0;32m   3799\u001b[0m \u001b[43m        \u001b[49m\u001b[38;5;241;43m*\u001b[39;49m\u001b[38;5;241;43m*\u001b[39;49m\u001b[43mkwargs\u001b[49m\u001b[43m,\u001b[49m\n\u001b[0;32m   3800\u001b[0m \u001b[43m    \u001b[49m\u001b[43m)\u001b[49m\n",
      "File \u001b[1;32m~\\anaconda3\\Lib\\site-packages\\matplotlib\\axes\\_axes.py:1779\u001b[0m, in \u001b[0;36mAxes.plot\u001b[1;34m(self, scalex, scaley, data, *args, **kwargs)\u001b[0m\n\u001b[0;32m   1536\u001b[0m \u001b[38;5;250m\u001b[39m\u001b[38;5;124;03m\"\"\"\u001b[39;00m\n\u001b[0;32m   1537\u001b[0m \u001b[38;5;124;03mPlot y versus x as lines and/or markers.\u001b[39;00m\n\u001b[0;32m   1538\u001b[0m \n\u001b[1;32m   (...)\u001b[0m\n\u001b[0;32m   1776\u001b[0m \u001b[38;5;124;03m(``'green'``) or hex strings (``'#008000'``).\u001b[39;00m\n\u001b[0;32m   1777\u001b[0m \u001b[38;5;124;03m\"\"\"\u001b[39;00m\n\u001b[0;32m   1778\u001b[0m kwargs \u001b[38;5;241m=\u001b[39m cbook\u001b[38;5;241m.\u001b[39mnormalize_kwargs(kwargs, mlines\u001b[38;5;241m.\u001b[39mLine2D)\n\u001b[1;32m-> 1779\u001b[0m lines \u001b[38;5;241m=\u001b[39m [\u001b[38;5;241m*\u001b[39m\u001b[38;5;28mself\u001b[39m\u001b[38;5;241m.\u001b[39m_get_lines(\u001b[38;5;28mself\u001b[39m, \u001b[38;5;241m*\u001b[39margs, data\u001b[38;5;241m=\u001b[39mdata, \u001b[38;5;241m*\u001b[39m\u001b[38;5;241m*\u001b[39mkwargs)]\n\u001b[0;32m   1780\u001b[0m \u001b[38;5;28;01mfor\u001b[39;00m line \u001b[38;5;129;01min\u001b[39;00m lines:\n\u001b[0;32m   1781\u001b[0m     \u001b[38;5;28mself\u001b[39m\u001b[38;5;241m.\u001b[39madd_line(line)\n",
      "File \u001b[1;32m~\\anaconda3\\Lib\\site-packages\\matplotlib\\axes\\_base.py:296\u001b[0m, in \u001b[0;36m_process_plot_var_args.__call__\u001b[1;34m(self, axes, data, *args, **kwargs)\u001b[0m\n\u001b[0;32m    294\u001b[0m     this \u001b[38;5;241m+\u001b[39m\u001b[38;5;241m=\u001b[39m args[\u001b[38;5;241m0\u001b[39m],\n\u001b[0;32m    295\u001b[0m     args \u001b[38;5;241m=\u001b[39m args[\u001b[38;5;241m1\u001b[39m:]\n\u001b[1;32m--> 296\u001b[0m \u001b[38;5;28;01myield from\u001b[39;00m \u001b[38;5;28;43mself\u001b[39;49m\u001b[38;5;241;43m.\u001b[39;49m\u001b[43m_plot_args\u001b[49m\u001b[43m(\u001b[49m\n\u001b[0;32m    297\u001b[0m \u001b[43m    \u001b[49m\u001b[43maxes\u001b[49m\u001b[43m,\u001b[49m\u001b[43m \u001b[49m\u001b[43mthis\u001b[49m\u001b[43m,\u001b[49m\u001b[43m \u001b[49m\u001b[43mkwargs\u001b[49m\u001b[43m,\u001b[49m\u001b[43m \u001b[49m\u001b[43mambiguous_fmt_datakey\u001b[49m\u001b[38;5;241;43m=\u001b[39;49m\u001b[43mambiguous_fmt_datakey\u001b[49m\u001b[43m)\u001b[49m\n",
      "File \u001b[1;32m~\\anaconda3\\Lib\\site-packages\\matplotlib\\axes\\_base.py:478\u001b[0m, in \u001b[0;36m_process_plot_var_args._plot_args\u001b[1;34m(self, axes, tup, kwargs, return_kwargs, ambiguous_fmt_datakey)\u001b[0m\n\u001b[0;32m    476\u001b[0m     y \u001b[38;5;241m=\u001b[39m _check_1d(xy[\u001b[38;5;241m1\u001b[39m])\n\u001b[0;32m    477\u001b[0m \u001b[38;5;28;01melse\u001b[39;00m:\n\u001b[1;32m--> 478\u001b[0m     x, y \u001b[38;5;241m=\u001b[39m \u001b[43mindex_of\u001b[49m\u001b[43m(\u001b[49m\u001b[43mxy\u001b[49m\u001b[43m[\u001b[49m\u001b[38;5;241;43m-\u001b[39;49m\u001b[38;5;241;43m1\u001b[39;49m\u001b[43m]\u001b[49m\u001b[43m)\u001b[49m\n\u001b[0;32m    480\u001b[0m \u001b[38;5;28;01mif\u001b[39;00m axes\u001b[38;5;241m.\u001b[39mxaxis \u001b[38;5;129;01mis\u001b[39;00m \u001b[38;5;129;01mnot\u001b[39;00m \u001b[38;5;28;01mNone\u001b[39;00m:\n\u001b[0;32m    481\u001b[0m     axes\u001b[38;5;241m.\u001b[39mxaxis\u001b[38;5;241m.\u001b[39mupdate_units(x)\n",
      "File \u001b[1;32m~\\anaconda3\\Lib\\site-packages\\matplotlib\\cbook.py:1719\u001b[0m, in \u001b[0;36mindex_of\u001b[1;34m(y)\u001b[0m\n\u001b[0;32m   1717\u001b[0m     \u001b[38;5;28;01mpass\u001b[39;00m\n\u001b[0;32m   1718\u001b[0m \u001b[38;5;28;01mtry\u001b[39;00m:\n\u001b[1;32m-> 1719\u001b[0m     y \u001b[38;5;241m=\u001b[39m \u001b[43m_check_1d\u001b[49m\u001b[43m(\u001b[49m\u001b[43my\u001b[49m\u001b[43m)\u001b[49m\n\u001b[0;32m   1720\u001b[0m \u001b[38;5;28;01mexcept\u001b[39;00m (VisibleDeprecationWarning, \u001b[38;5;167;01mValueError\u001b[39;00m):\n\u001b[0;32m   1721\u001b[0m     \u001b[38;5;66;03m# NumPy 1.19 will warn on ragged input, and we can't actually use it.\u001b[39;00m\n\u001b[0;32m   1722\u001b[0m     \u001b[38;5;28;01mpass\u001b[39;00m\n",
      "File \u001b[1;32m~\\anaconda3\\Lib\\site-packages\\matplotlib\\cbook.py:1411\u001b[0m, in \u001b[0;36m_check_1d\u001b[1;34m(x)\u001b[0m\n\u001b[0;32m   1405\u001b[0m \u001b[38;5;66;03m# plot requires `shape` and `ndim`.  If passed an\u001b[39;00m\n\u001b[0;32m   1406\u001b[0m \u001b[38;5;66;03m# object that doesn't provide them, then force to numpy array.\u001b[39;00m\n\u001b[0;32m   1407\u001b[0m \u001b[38;5;66;03m# Note this will strip unit information.\u001b[39;00m\n\u001b[0;32m   1408\u001b[0m \u001b[38;5;28;01mif\u001b[39;00m (\u001b[38;5;129;01mnot\u001b[39;00m \u001b[38;5;28mhasattr\u001b[39m(x, \u001b[38;5;124m'\u001b[39m\u001b[38;5;124mshape\u001b[39m\u001b[38;5;124m'\u001b[39m) \u001b[38;5;129;01mor\u001b[39;00m\n\u001b[0;32m   1409\u001b[0m         \u001b[38;5;129;01mnot\u001b[39;00m \u001b[38;5;28mhasattr\u001b[39m(x, \u001b[38;5;124m'\u001b[39m\u001b[38;5;124mndim\u001b[39m\u001b[38;5;124m'\u001b[39m) \u001b[38;5;129;01mor\u001b[39;00m\n\u001b[0;32m   1410\u001b[0m         \u001b[38;5;28mlen\u001b[39m(x\u001b[38;5;241m.\u001b[39mshape) \u001b[38;5;241m<\u001b[39m \u001b[38;5;241m1\u001b[39m):\n\u001b[1;32m-> 1411\u001b[0m     \u001b[38;5;28;01mreturn\u001b[39;00m \u001b[43mnp\u001b[49m\u001b[38;5;241;43m.\u001b[39;49m\u001b[43matleast_1d\u001b[49m\u001b[43m(\u001b[49m\u001b[43mx\u001b[49m\u001b[43m)\u001b[49m\n\u001b[0;32m   1412\u001b[0m \u001b[38;5;28;01melse\u001b[39;00m:\n\u001b[0;32m   1413\u001b[0m     \u001b[38;5;28;01mreturn\u001b[39;00m x\n",
      "File \u001b[1;32m~\\anaconda3\\Lib\\site-packages\\numpy\\core\\shape_base.py:65\u001b[0m, in \u001b[0;36matleast_1d\u001b[1;34m(*arys)\u001b[0m\n\u001b[0;32m     63\u001b[0m res \u001b[38;5;241m=\u001b[39m []\n\u001b[0;32m     64\u001b[0m \u001b[38;5;28;01mfor\u001b[39;00m ary \u001b[38;5;129;01min\u001b[39;00m arys:\n\u001b[1;32m---> 65\u001b[0m     ary \u001b[38;5;241m=\u001b[39m \u001b[43masanyarray\u001b[49m\u001b[43m(\u001b[49m\u001b[43mary\u001b[49m\u001b[43m)\u001b[49m\n\u001b[0;32m     66\u001b[0m     \u001b[38;5;28;01mif\u001b[39;00m ary\u001b[38;5;241m.\u001b[39mndim \u001b[38;5;241m==\u001b[39m \u001b[38;5;241m0\u001b[39m:\n\u001b[0;32m     67\u001b[0m         result \u001b[38;5;241m=\u001b[39m ary\u001b[38;5;241m.\u001b[39mreshape(\u001b[38;5;241m1\u001b[39m)\n",
      "File \u001b[1;32m~\\anaconda3\\Lib\\site-packages\\torch\\_tensor.py:1194\u001b[0m, in \u001b[0;36mTensor.__array__\u001b[1;34m(self, dtype)\u001b[0m\n\u001b[0;32m   1192\u001b[0m     \u001b[38;5;28;01mreturn\u001b[39;00m handle_torch_function(Tensor\u001b[38;5;241m.\u001b[39m__array__, (\u001b[38;5;28mself\u001b[39m,), \u001b[38;5;28mself\u001b[39m, dtype\u001b[38;5;241m=\u001b[39mdtype)\n\u001b[0;32m   1193\u001b[0m \u001b[38;5;28;01mif\u001b[39;00m dtype \u001b[38;5;129;01mis\u001b[39;00m \u001b[38;5;28;01mNone\u001b[39;00m:\n\u001b[1;32m-> 1194\u001b[0m     \u001b[38;5;28;01mreturn\u001b[39;00m \u001b[38;5;28;43mself\u001b[39;49m\u001b[38;5;241;43m.\u001b[39;49m\u001b[43mnumpy\u001b[49m\u001b[43m(\u001b[49m\u001b[43m)\u001b[49m\n\u001b[0;32m   1195\u001b[0m \u001b[38;5;28;01melse\u001b[39;00m:\n\u001b[0;32m   1196\u001b[0m     \u001b[38;5;28;01mreturn\u001b[39;00m \u001b[38;5;28mself\u001b[39m\u001b[38;5;241m.\u001b[39mnumpy()\u001b[38;5;241m.\u001b[39mastype(dtype, copy\u001b[38;5;241m=\u001b[39m\u001b[38;5;28;01mFalse\u001b[39;00m)\n",
      "\u001b[1;31mTypeError\u001b[0m: can't convert cuda:0 device type tensor to numpy. Use Tensor.cpu() to copy the tensor to host memory first."
     ]
    },
    {
     "data": {
      "image/png": "[encoded data removed]",
      "text/plain": [
       "<Figure size 640x480 with 1 Axes>"
      ]
     },
     "metadata": {},
     "output_type": "display_data"
    }
   ],
   "source": [
    "# ACC Curve\n",
    "print(metrics['train_acc'])\n",
    "print(train_accs)\n",
    "print(metrics['val_acc'])\n",
    "plt.plot(metrics['val_acc'], color='orange', label='Validation ACC')\n",
    "plt.plot(metrics['train_acc'], color='red', label='Training ACC')\n",
    "plt.plot(train_accs, color='blue', label='Training ACCs')\n",
    "\n",
    "\n",
    "plt.xlabel('Epochs')\n",
    "plt.ylabel('ACC')\n",
    "plt.title('ACC Curve')\n",
    "plt.legend()"
   ]
  },
  {
   "cell_type": "code",
   "execution_count": null,
   "metadata": {},
   "outputs": [],
   "source": []
  }
 ],
 "metadata": {
  "accelerator": "GPU",
  "colab": {
   "gpuType": "T4",
   "provenance": []
  },
  "kernelspec": {
   "display_name": "Python 3 (ipykernel)",
   "language": "python",
   "name": "python3"
  },
  "language_info": {
   "codemirror_mode": {
    "name": "ipython",
    "version": 3
   },
   "file_extension": ".py",
   "mimetype": "text/x-python",
   "name": "python",
   "nbconvert_exporter": "python",
   "pygments_lexer": "ipython3",
   "version": "3.12.3"
  }
 },
 "nbformat": 4,
 "nbformat_minor": 4
}
