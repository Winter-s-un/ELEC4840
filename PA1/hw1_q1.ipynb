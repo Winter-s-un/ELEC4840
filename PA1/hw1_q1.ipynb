{
 "cells": [
  {
   "cell_type": "markdown",
   "metadata": {
    "id": "ApwjF_gNfBov"
   },
   "source": [
    "## ELEC4840 Assignment 1\n",
    "\n",
    "Name: \n",
    "\n",
    "Student ID: \n",
    "\n",
    "- Problem 1 (40%)\n",
    "\n",
    "- Problem 2 (60%)"
   ]
  },
  {
   "cell_type": "code",
   "execution_count": 8,
   "metadata": {
    "id": "MiRMnBEmMc26",
    "scrolled": true
   },
   "outputs": [],
   "source": [
    "# import torch\n",
    "# print(torch.__version__)\n",
    "# print(torch.version.cuda)\n",
    "# print(torch.backends.cudnn.version())\n",
    "# print(torch.cuda.is_available())\n"
   ]
  },
  {
   "cell_type": "code",
   "execution_count": 1,
   "metadata": {
    "id": "MiRMnBEmMc26"
   },
   "outputs": [],
   "source": [
    "# import packages\n",
    "import torch\n",
    "from torch import nn\n",
    "from torchvision import datasets, transforms\n",
    "from tqdm import tqdm"
   ]
  },
  {
   "cell_type": "markdown",
   "metadata": {},
   "source": [
    "## HINT\n",
    "You should run training on __training dataset__, validate the model's performance during training using __validation dataset__. After finishing training, select the model that has the best performance on validation dataset, then report the model's performance based on the data of the __test dataset__."
   ]
  },
  {
   "cell_type": "code",
   "execution_count": null,
   "metadata": {
    "colab": {
     "base_uri": "https://localhost:8080/"
    },
    "id": "lsNk1OslN67-",
    "outputId": "6f3c439b-fe12-4bf4-a0b7-dbabadc4d2cf"
   },
   "outputs": [],
   "source": [
    "# load MNIST dataset\n",
    "transform = transforms.Compose([\n",
    "    transforms.ToTensor(),\n",
    "    transforms.Normalize(\n",
    "        mean=0.5,\n",
    "        std=0.5\n",
    "    )\n",
    "])\n",
    "\n",
    "data_train = datasets.MNIST(\n",
    "    root=\"./data/\",\n",
    "    transform=transform,\n",
    "    train=True,\n",
    "    download=True\n",
    ")\n",
    "\n",
    "data_test = datasets.MNIST(\n",
    "    root=\"./data/\",\n",
    "    transform=transform,\n",
    "    train=False\n",
    ")\n",
    "\n",
    "split_train_size = int(0.8*(len(data_train))) \n",
    "split_valid_size = len(data_train) - split_train_size\n",
    "\n",
    "train_set, valid_set = torch.utils.data.random_split(\n",
    "    data_train, [split_train_size, split_valid_size])\n",
    "\n",
    "loader_train = torch.utils.data.DataLoader(\n",
    "    dataset=train_set,\n",
    "    batch_size=64,\n",
    "    shuffle=True\n",
    ")\n",
    "\n",
    "loader_valid = torch.utils.data.DataLoader(\n",
    "    dataset=valid_set,\n",
    "    batch_size=64,\n",
    "    shuffle=False\n",
    ")\n",
    "\n",
    "loader_test = torch.utils.data.DataLoader(\n",
    "    dataset=data_test,\n",
    "    batch_size=64,\n",
    "    shuffle=False\n",
    ")"
   ]
  },
  {
   "cell_type": "markdown",
   "metadata": {
    "id": "4r9vv7F8e_FK"
   },
   "source": [
    "### Problem 1. Train an MLP network on the MNIST dataset (40%)\n",
    "\n",
    "Use a four-layer MLP to train the MNIST dataset.\n",
    "\n",
    "| Layer |  Type  |       Input       |      Output       | Activation |\n",
    "| :---: | :----: | :---------------: | :---------------: | :--------: |\n",
    "|   1   | Linear |      28 * 28      |         128         |    ReLU    |\n",
    "|   2   | Linear |         128         |        64         |    ReLU    |\n",
    "|  3  | Dropout | 64 | 64 | - |\n",
    "|   4   | Linear |        64         |        32         |    ReLU    |\n",
    "|  5   | Dropout | 32 | 32 | - |\n",
    "|   6   | Linear |       32         |        10         |     -      |\n",
    "\n",
    "\n",
    "a.) Implement the function `__init__` and `forward` in the class `Model` (15%);\n",
    "\n",
    "b.) Implement the training code (15%).\n",
    "\n",
    "c.) Plot the curve of accuracy and loss(5%). Compare and discuss the results' difference between the model with / without dropout operation(5%)."
   ]
  },
  {
   "cell_type": "code",
   "execution_count": 11,
   "metadata": {
    "id": "5A8NgdpjO8Gs"
   },
   "outputs": [],
   "source": [
    "class Model(nn.Module):\n",
    "    def __init__(self):\n",
    "        super(Model, self).__init__()\n",
    "        ## ----- write your code here\n",
    "        self.layers = nn.Sequential(\n",
    "            nn.Linear(28*28, 128),\n",
    "            nn.ReLU(),\n",
    "            nn.Linear(128, 64),\n",
    "            nn.ReLU(),\n",
    "            # nn.Dropout(0.5),      \n",
    "            nn.Linear(64, 32),\n",
    "            nn.ReLU(),\n",
    "            # nn.Dropout(0.3),       \n",
    "            nn.Linear(32, 10)\n",
    "        )\n",
    "\n",
    "    def forward(self, x):\n",
    "        ## ----- write your code here\n",
    "        ## Remember to return the output and delete the 'pass' command below\n",
    "        x = x.view(x.size(0), -1) \n",
    "        return self.layers(x)\n",
    "       \n",
    "        pass"
   ]
  },
  {
   "cell_type": "code",
   "execution_count": 12,
   "metadata": {
    "id": "gwwrK_2spxM1"
   },
   "outputs": [
    {
     "name": "stdout",
     "output_type": "stream",
     "text": [
      " -- Epoch 1/20\n"
     ]
    },
    {
     "name": "stderr",
     "output_type": "stream",
     "text": [
      "100%|████████████████████████████████████████████████████████████████████████████████| 750/750 [00:09<00:00, 82.05it/s]\n"
     ]
    },
    {
     "name": "stdout",
     "output_type": "stream",
     "text": [
      "Loss 0.0350, Train Accuracy 19.7417%, Validation Accuracy 34.6000%\n",
      " -- Epoch 2/20\n"
     ]
    },
    {
     "name": "stderr",
     "output_type": "stream",
     "text": [
      "100%|████████████████████████████████████████████████████████████████████████████████| 750/750 [00:09<00:00, 79.37it/s]\n"
     ]
    },
    {
     "name": "stdout",
     "output_type": "stream",
     "text": [
      "Loss 0.0248, Train Accuracy 50.1479%, Validation Accuracy 70.5667%\n",
      " -- Epoch 3/20\n"
     ]
    },
    {
     "name": "stderr",
     "output_type": "stream",
     "text": [
      "100%|████████████████████████████████████████████████████████████████████████████████| 750/750 [00:09<00:00, 82.02it/s]\n"
     ]
    },
    {
     "name": "stdout",
     "output_type": "stream",
     "text": [
      "Loss 0.0118, Train Accuracy 77.1458%, Validation Accuracy 81.4583%\n",
      " -- Epoch 4/20\n"
     ]
    },
    {
     "name": "stderr",
     "output_type": "stream",
     "text": [
      "100%|████████████████████████████████████████████████████████████████████████████████| 750/750 [00:09<00:00, 82.78it/s]\n"
     ]
    },
    {
     "name": "stdout",
     "output_type": "stream",
     "text": [
      "Loss 0.0081, Train Accuracy 84.4688%, Validation Accuracy 85.9750%\n",
      " -- Epoch 5/20\n"
     ]
    },
    {
     "name": "stderr",
     "output_type": "stream",
     "text": [
      "100%|████████████████████████████████████████████████████████████████████████████████| 750/750 [00:09<00:00, 82.38it/s]\n"
     ]
    },
    {
     "name": "stdout",
     "output_type": "stream",
     "text": [
      "Loss 0.0068, Train Accuracy 87.3375%, Validation Accuracy 88.1000%\n",
      " -- Epoch 6/20\n"
     ]
    },
    {
     "name": "stderr",
     "output_type": "stream",
     "text": [
      "100%|████████████████████████████████████████████████████████████████████████████████| 750/750 [00:08<00:00, 84.04it/s]\n"
     ]
    },
    {
     "name": "stdout",
     "output_type": "stream",
     "text": [
      "Loss 0.0061, Train Accuracy 88.6479%, Validation Accuracy 88.1000%\n",
      " -- Epoch 7/20\n"
     ]
    },
    {
     "name": "stderr",
     "output_type": "stream",
     "text": [
      "100%|████████████████████████████████████████████████████████████████████████████████| 750/750 [00:09<00:00, 80.88it/s]\n"
     ]
    },
    {
     "name": "stdout",
     "output_type": "stream",
     "text": [
      "Loss 0.0056, Train Accuracy 89.4750%, Validation Accuracy 89.3000%\n",
      " -- Epoch 8/20\n"
     ]
    },
    {
     "name": "stderr",
     "output_type": "stream",
     "text": [
      "100%|████████████████████████████████████████████████████████████████████████████████| 750/750 [00:09<00:00, 80.84it/s]\n"
     ]
    },
    {
     "name": "stdout",
     "output_type": "stream",
     "text": [
      "Loss 0.0053, Train Accuracy 90.0562%, Validation Accuracy 89.6750%\n",
      " -- Epoch 9/20\n"
     ]
    },
    {
     "name": "stderr",
     "output_type": "stream",
     "text": [
      "100%|████████████████████████████████████████████████████████████████████████████████| 750/750 [00:09<00:00, 82.12it/s]\n"
     ]
    },
    {
     "name": "stdout",
     "output_type": "stream",
     "text": [
      "Loss 0.0050, Train Accuracy 90.6312%, Validation Accuracy 90.7333%\n",
      " -- Epoch 10/20\n"
     ]
    },
    {
     "name": "stderr",
     "output_type": "stream",
     "text": [
      "100%|████████████████████████████████████████████████████████████████████████████████| 750/750 [00:08<00:00, 83.53it/s]\n"
     ]
    },
    {
     "name": "stdout",
     "output_type": "stream",
     "text": [
      "Loss 0.0048, Train Accuracy 91.0417%, Validation Accuracy 90.9750%\n",
      " -- Epoch 11/20\n"
     ]
    },
    {
     "name": "stderr",
     "output_type": "stream",
     "text": [
      "100%|████████████████████████████████████████████████████████████████████████████████| 750/750 [00:09<00:00, 80.62it/s]\n"
     ]
    },
    {
     "name": "stdout",
     "output_type": "stream",
     "text": [
      "Loss 0.0045, Train Accuracy 91.5833%, Validation Accuracy 91.4333%\n",
      " -- Epoch 12/20\n"
     ]
    },
    {
     "name": "stderr",
     "output_type": "stream",
     "text": [
      "100%|████████████████████████████████████████████████████████████████████████████████| 750/750 [00:08<00:00, 83.38it/s]\n"
     ]
    },
    {
     "name": "stdout",
     "output_type": "stream",
     "text": [
      "Loss 0.0043, Train Accuracy 91.9521%, Validation Accuracy 91.7583%\n",
      " -- Epoch 13/20\n"
     ]
    },
    {
     "name": "stderr",
     "output_type": "stream",
     "text": [
      "100%|████████████████████████████████████████████████████████████████████████████████| 750/750 [00:09<00:00, 81.27it/s]\n"
     ]
    },
    {
     "name": "stdout",
     "output_type": "stream",
     "text": [
      "Loss 0.0041, Train Accuracy 92.3187%, Validation Accuracy 92.1583%\n",
      " -- Epoch 14/20\n"
     ]
    },
    {
     "name": "stderr",
     "output_type": "stream",
     "text": [
      "100%|████████████████████████████████████████████████████████████████████████████████| 750/750 [00:09<00:00, 81.41it/s]\n"
     ]
    },
    {
     "name": "stdout",
     "output_type": "stream",
     "text": [
      "Loss 0.0039, Train Accuracy 92.6771%, Validation Accuracy 92.3083%\n",
      " -- Epoch 15/20\n"
     ]
    },
    {
     "name": "stderr",
     "output_type": "stream",
     "text": [
      "100%|████████████████████████████████████████████████████████████████████████████████| 750/750 [00:09<00:00, 80.63it/s]\n"
     ]
    },
    {
     "name": "stdout",
     "output_type": "stream",
     "text": [
      "Loss 0.0038, Train Accuracy 93.0021%, Validation Accuracy 92.8667%\n",
      " -- Epoch 16/20\n"
     ]
    },
    {
     "name": "stderr",
     "output_type": "stream",
     "text": [
      "100%|████████████████████████████████████████████████████████████████████████████████| 750/750 [00:09<00:00, 80.28it/s]\n"
     ]
    },
    {
     "name": "stdout",
     "output_type": "stream",
     "text": [
      "Loss 0.0036, Train Accuracy 93.3917%, Validation Accuracy 93.0500%\n",
      " -- Epoch 17/20\n"
     ]
    },
    {
     "name": "stderr",
     "output_type": "stream",
     "text": [
      "100%|████████████████████████████████████████████████████████████████████████████████| 750/750 [00:09<00:00, 81.11it/s]\n"
     ]
    },
    {
     "name": "stdout",
     "output_type": "stream",
     "text": [
      "Loss 0.0034, Train Accuracy 93.6687%, Validation Accuracy 93.3333%\n",
      " -- Epoch 18/20\n"
     ]
    },
    {
     "name": "stderr",
     "output_type": "stream",
     "text": [
      "100%|████████████████████████████████████████████████████████████████████████████████| 750/750 [00:09<00:00, 79.95it/s]\n"
     ]
    },
    {
     "name": "stdout",
     "output_type": "stream",
     "text": [
      "Loss 0.0032, Train Accuracy 93.9979%, Validation Accuracy 93.8667%\n",
      " -- Epoch 19/20\n"
     ]
    },
    {
     "name": "stderr",
     "output_type": "stream",
     "text": [
      "100%|████████████████████████████████████████████████████████████████████████████████| 750/750 [00:09<00:00, 80.08it/s]\n"
     ]
    },
    {
     "name": "stdout",
     "output_type": "stream",
     "text": [
      "Loss 0.0031, Train Accuracy 94.2521%, Validation Accuracy 93.6583%\n",
      " -- Epoch 20/20\n"
     ]
    },
    {
     "name": "stderr",
     "output_type": "stream",
     "text": [
      "100%|████████████████████████████████████████████████████████████████████████████████| 750/750 [00:09<00:00, 81.09it/s]\n"
     ]
    },
    {
     "name": "stdout",
     "output_type": "stream",
     "text": [
      "Loss 0.0030, Train Accuracy 94.4937%, Validation Accuracy 93.8667%\n",
      "Best model on test set: Test Accuracy 94.2000%\n"
     ]
    }
   ],
   "source": [
    "max_epoch = 20\n",
    "use_cuda = True\n",
    "\n",
    "# model initialization\n",
    "model = Model()\n",
    "if use_cuda:\n",
    "    model = model.cuda()\n",
    "\n",
    "# loss function\n",
    "criterion = nn.CrossEntropyLoss()# -- write your code here --\n",
    "\n",
    "# optimizer\n",
    "optimizer = torch.optim.SGD(model.parameters(), lr = 0.0001, momentum = 0.98)# -- write your code here --\n",
    "\n",
    "loss_list = []\n",
    "valid_loss_list = []\n",
    "acc_train_list = []\n",
    "acc_valid_list = []\n",
    "\n",
    "best_valid_loss = float('inf')\n",
    "\n",
    "for epoch in range(max_epoch):\n",
    "    running_loss = 0.0\n",
    "    running_correct = 0\n",
    "    valid_loss = 0.0\n",
    "    valid_correct = 0\n",
    "    print(\" -- Epoch {}/{}\".format(epoch + 1, max_epoch))\n",
    "\n",
    "    # training\n",
    "    # call a function to control the dropout behaviour \n",
    "    # your code here\n",
    "    model.train()\n",
    "\n",
    "    for data in tqdm(loader_train):\n",
    "        # set all gradients to zero\n",
    "        optimizer.zero_grad()\n",
    "\n",
    "        # fetch data\n",
    "        images, labels = data\n",
    "        if use_cuda:\n",
    "            images = images.cuda()\n",
    "            labels = labels.cuda()\n",
    "\n",
    "        # model forward\n",
    "        outputs = model(images)# -- write your code here --\n",
    "\n",
    "        # calculate loss\n",
    "        loss = criterion(outputs, labels)# -- write your code here --\n",
    "\n",
    "        loss.backward()\n",
    "        optimizer.step()\n",
    "\n",
    "        pred = torch.argmax(outputs, dim=1)\n",
    "        running_loss += loss.item()\n",
    "        running_correct += torch.sum(pred == labels)\n",
    "\n",
    "\n",
    "\n",
    "\n",
    "    # record loss, accuracy\n",
    "    loss = running_loss / len(train_set)\n",
    "    loss_list.append(loss)\n",
    "    acc_train = running_correct / len(train_set)\n",
    "    acc_train_list.append(acc_train.item())\n",
    "\n",
    "    # testing\n",
    "\n",
    "    # call a function to control the dropout behaviour \n",
    "    # your code here\n",
    "    model.eval()\n",
    "\n",
    "    valid_correct = 0\n",
    "    for data in loader_valid:\n",
    "        # fetch data\n",
    "        # model forward\n",
    "        # calculate loss\n",
    "        images, labels = data\n",
    "        if use_cuda:\n",
    "            images = images.cuda()\n",
    "            labels = labels.cuda()\n",
    "    \n",
    "        val_outputs = model(images)\n",
    "        val_loss = criterion(val_outputs, labels)\n",
    "        val_pred = torch.argmax(val_outputs, dim = 1)\n",
    "        \n",
    "        valid_loss += val_loss.item()\n",
    "        valid_correct += torch.sum(val_pred == labels)    \n",
    "    \n",
    "\n",
    "    # Save best checkpoint\n",
    "    valid_loss /= len(valid_set)\n",
    "    if valid_loss < best_valid_loss:# -- write your code here --:\n",
    "        best_valid_loss = valid_loss\n",
    "        torch.save(model.state_dict(), 'best_checkpoint_mnist.pt')\n",
    "    # valid_loss = valid_loss / len(valid_set)\n",
    "    valid_loss_list.append(valid_loss)\n",
    "    acc_valid = valid_correct / len(valid_set)\n",
    "    acc_valid_list.append(acc_valid.item())\n",
    "    print(\"Loss {:.4f}, Train Accuracy {:.4f}%, Validation Accuracy {:.4f}%\".format(\n",
    "        loss,\n",
    "        acc_train * 100,\n",
    "        acc_valid * 100\n",
    "    ))\n",
    "\n",
    "\n",
    "model.load_state_dict(torch.load('best_checkpoint_mnist.pt'))\n",
    "\n",
    "# call a function to control the dropout behaviour \n",
    "# your code here\n",
    "model.eval()\n",
    "correct = 0\n",
    "total = 0\n",
    "total = len(data_test)\n",
    "with torch.no_grad():\n",
    "    for images, labels in loader_test:\n",
    "        # fetch data\n",
    "        # model forward\n",
    "        # calculate accuracy on test set\n",
    "\n",
    "        if use_cuda:\n",
    "            images = images.cuda()\n",
    "            labels = labels.cuda()\n",
    "\n",
    "        outputs = model(images)\n",
    "        pred = torch.argmax(outputs, dim=1)\n",
    "        correct += torch.sum(pred == labels)\n",
    "        pass\n",
    "acc_test=correct/total\n",
    "print(\"Best model on test set: Test Accuracy {:.4f}%\".format(\n",
    "        acc_test * 100\n",
    "    ))"
   ]
  },
  {
   "cell_type": "markdown",
   "metadata": {
    "id": "bo_qV1fOkdFI"
   },
   "source": [
    "c.) Plot loss and accuracy curve\n",
    "\n",
    "In the previous cell, you have recorded the loss and train/valid accuracy in `loss_list`, `acc_train_list`, and `acc_valid_list`, respectively. In this problem, you are required to plot two figures: 1.) training loss curve (5%); 2.) training and validation accuracy curves in the same figure (5%)."
   ]
  },
  {
   "cell_type": "code",
   "execution_count": 13,
   "metadata": {
    "id": "8ybynXZhTX32"
   },
   "outputs": [
    {
     "data": {
      "image/png": "[encoded data removed]",
      "text/plain": [
       "<Figure size 640x480 with 1 Axes>"
      ]
     },
     "metadata": {},
     "output_type": "display_data"
    },
    {
     "data": {
      "image/png": "[encoded data removed]",
      "text/plain": [
       "<Figure size 640x480 with 1 Axes>"
      ]
     },
     "metadata": {},
     "output_type": "display_data"
    }
   ],
   "source": [
    "import numpy as np\n",
    "from matplotlib import pyplot as plt\n",
    "\n",
    "## ----- write your code here\n",
    "plt.figure()\n",
    "plt.plot(loss_list, label = \"Train\")\n",
    "plt.plot(valid_loss_list, label = \"Valid\")\n",
    "plt.xlabel('Epochs')\n",
    "plt.ylabel('Loss')\n",
    "plt.title('Training Loss Curve')\n",
    "plt.legend()\n",
    "plt.show()\n",
    "\n",
    "plt.figure()\n",
    "plt.plot(acc_train_list, label = \"Train\")\n",
    "plt.plot(acc_valid_list, label = \"Validation\")\n",
    "plt.xlabel('Epochs')\n",
    "plt.ylabel('Accuracy')\n",
    "plt.title('Training and Validation Accuracy Curves')\n",
    "plt.legend()\n",
    "plt.show()"
   ]
  },
  {
   "cell_type": "code",
   "execution_count": null,
   "metadata": {},
   "outputs": [],
   "source": []
  }
 ],
 "metadata": {
  "accelerator": "GPU",
  "colab": {
   "provenance": []
  },
  "kernelspec": {
   "display_name": "Python 3 (ipykernel)",
   "language": "python",
   "name": "python3"
  },
  "language_info": {
   "codemirror_mode": {
    "name": "ipython",
    "version": 3
   },
   "file_extension": ".py",
   "mimetype": "text/x-python",
   "name": "python",
   "nbconvert_exporter": "python",
   "pygments_lexer": "ipython3",
   "version": "3.12.3"
  },
  "vscode": {
   "interpreter": {
    "hash": "a665b5d41d17b532ea9890333293a1b812fa0b73c9c25c950b3cedf1bebd0438"
   }
  }
 },
 "nbformat": 4,
 "nbformat_minor": 4
}
